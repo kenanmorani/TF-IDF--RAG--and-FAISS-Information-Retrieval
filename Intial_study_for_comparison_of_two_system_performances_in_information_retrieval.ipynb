{
  "cells": [
    {
      "cell_type": "markdown",
      "metadata": {
        "id": "view-in-github",
        "colab_type": "text"
      },
      "source": [
        "<a href=\"https://colab.research.google.com/github/kenanmorani/TF-IDF--RAG--and-FAISS-Information-Retrieval/blob/main/Intial_study_for_comparison_of_two_system_performances_in_information_retrieval.ipynb\" target=\"_parent\"><img src=\"https://colab.research.google.com/assets/colab-badge.svg\" alt=\"Open In Colab\"/></a>"
      ]
    },
    {
      "cell_type": "markdown",
      "source": [
        "install and load the dataset:"
      ],
      "metadata": {
        "id": "gD1JnZRpC_9D"
      }
    },
    {
      "cell_type": "code",
      "source": [
        "!pip install datasets scikit-learn faiss-cpu sentence-transformers"
      ],
      "metadata": {
        "colab": {
          "base_uri": "https://localhost:8080/"
        },
        "id": "51pJbj7HC-XU",
        "outputId": "7f1c2c06-be23-4e70-a974-db41fa138a94"
      },
      "execution_count": 7,
      "outputs": [
        {
          "output_type": "stream",
          "name": "stdout",
          "text": [
            "Requirement already satisfied: datasets in /usr/local/lib/python3.11/dist-packages (3.2.0)\n",
            "Requirement already satisfied: scikit-learn in /usr/local/lib/python3.11/dist-packages (1.6.1)\n",
            "Requirement already satisfied: faiss-cpu in /usr/local/lib/python3.11/dist-packages (1.10.0)\n",
            "Requirement already satisfied: sentence-transformers in /usr/local/lib/python3.11/dist-packages (3.3.1)\n",
            "Requirement already satisfied: filelock in /usr/local/lib/python3.11/dist-packages (from datasets) (3.17.0)\n",
            "Requirement already satisfied: numpy>=1.17 in /usr/local/lib/python3.11/dist-packages (from datasets) (1.26.4)\n",
            "Requirement already satisfied: pyarrow>=15.0.0 in /usr/local/lib/python3.11/dist-packages (from datasets) (17.0.0)\n",
            "Requirement already satisfied: dill<0.3.9,>=0.3.0 in /usr/local/lib/python3.11/dist-packages (from datasets) (0.3.8)\n",
            "Requirement already satisfied: pandas in /usr/local/lib/python3.11/dist-packages (from datasets) (2.2.2)\n",
            "Requirement already satisfied: requests>=2.32.2 in /usr/local/lib/python3.11/dist-packages (from datasets) (2.32.3)\n",
            "Requirement already satisfied: tqdm>=4.66.3 in /usr/local/lib/python3.11/dist-packages (from datasets) (4.67.1)\n",
            "Requirement already satisfied: xxhash in /usr/local/lib/python3.11/dist-packages (from datasets) (3.5.0)\n",
            "Requirement already satisfied: multiprocess<0.70.17 in /usr/local/lib/python3.11/dist-packages (from datasets) (0.70.16)\n",
            "Requirement already satisfied: fsspec<=2024.9.0,>=2023.1.0 in /usr/local/lib/python3.11/dist-packages (from fsspec[http]<=2024.9.0,>=2023.1.0->datasets) (2024.9.0)\n",
            "Requirement already satisfied: aiohttp in /usr/local/lib/python3.11/dist-packages (from datasets) (3.11.11)\n",
            "Requirement already satisfied: huggingface-hub>=0.23.0 in /usr/local/lib/python3.11/dist-packages (from datasets) (0.27.1)\n",
            "Requirement already satisfied: packaging in /usr/local/lib/python3.11/dist-packages (from datasets) (24.2)\n",
            "Requirement already satisfied: pyyaml>=5.1 in /usr/local/lib/python3.11/dist-packages (from datasets) (6.0.2)\n",
            "Requirement already satisfied: scipy>=1.6.0 in /usr/local/lib/python3.11/dist-packages (from scikit-learn) (1.13.1)\n",
            "Requirement already satisfied: joblib>=1.2.0 in /usr/local/lib/python3.11/dist-packages (from scikit-learn) (1.4.2)\n",
            "Requirement already satisfied: threadpoolctl>=3.1.0 in /usr/local/lib/python3.11/dist-packages (from scikit-learn) (3.5.0)\n",
            "Requirement already satisfied: transformers<5.0.0,>=4.41.0 in /usr/local/lib/python3.11/dist-packages (from sentence-transformers) (4.47.1)\n",
            "Requirement already satisfied: torch>=1.11.0 in /usr/local/lib/python3.11/dist-packages (from sentence-transformers) (2.5.1+cu124)\n",
            "Requirement already satisfied: Pillow in /usr/local/lib/python3.11/dist-packages (from sentence-transformers) (11.1.0)\n",
            "Requirement already satisfied: aiohappyeyeballs>=2.3.0 in /usr/local/lib/python3.11/dist-packages (from aiohttp->datasets) (2.4.4)\n",
            "Requirement already satisfied: aiosignal>=1.1.2 in /usr/local/lib/python3.11/dist-packages (from aiohttp->datasets) (1.3.2)\n",
            "Requirement already satisfied: attrs>=17.3.0 in /usr/local/lib/python3.11/dist-packages (from aiohttp->datasets) (25.1.0)\n",
            "Requirement already satisfied: frozenlist>=1.1.1 in /usr/local/lib/python3.11/dist-packages (from aiohttp->datasets) (1.5.0)\n",
            "Requirement already satisfied: multidict<7.0,>=4.5 in /usr/local/lib/python3.11/dist-packages (from aiohttp->datasets) (6.1.0)\n",
            "Requirement already satisfied: propcache>=0.2.0 in /usr/local/lib/python3.11/dist-packages (from aiohttp->datasets) (0.2.1)\n",
            "Requirement already satisfied: yarl<2.0,>=1.17.0 in /usr/local/lib/python3.11/dist-packages (from aiohttp->datasets) (1.18.3)\n",
            "Requirement already satisfied: typing-extensions>=3.7.4.3 in /usr/local/lib/python3.11/dist-packages (from huggingface-hub>=0.23.0->datasets) (4.12.2)\n",
            "Requirement already satisfied: charset-normalizer<4,>=2 in /usr/local/lib/python3.11/dist-packages (from requests>=2.32.2->datasets) (3.4.1)\n",
            "Requirement already satisfied: idna<4,>=2.5 in /usr/local/lib/python3.11/dist-packages (from requests>=2.32.2->datasets) (3.10)\n",
            "Requirement already satisfied: urllib3<3,>=1.21.1 in /usr/local/lib/python3.11/dist-packages (from requests>=2.32.2->datasets) (2.3.0)\n",
            "Requirement already satisfied: certifi>=2017.4.17 in /usr/local/lib/python3.11/dist-packages (from requests>=2.32.2->datasets) (2024.12.14)\n",
            "Requirement already satisfied: networkx in /usr/local/lib/python3.11/dist-packages (from torch>=1.11.0->sentence-transformers) (3.4.2)\n",
            "Requirement already satisfied: jinja2 in /usr/local/lib/python3.11/dist-packages (from torch>=1.11.0->sentence-transformers) (3.1.5)\n",
            "Requirement already satisfied: nvidia-cuda-nvrtc-cu12==12.4.127 in /usr/local/lib/python3.11/dist-packages (from torch>=1.11.0->sentence-transformers) (12.4.127)\n",
            "Requirement already satisfied: nvidia-cuda-runtime-cu12==12.4.127 in /usr/local/lib/python3.11/dist-packages (from torch>=1.11.0->sentence-transformers) (12.4.127)\n",
            "Requirement already satisfied: nvidia-cuda-cupti-cu12==12.4.127 in /usr/local/lib/python3.11/dist-packages (from torch>=1.11.0->sentence-transformers) (12.4.127)\n",
            "Requirement already satisfied: nvidia-cudnn-cu12==9.1.0.70 in /usr/local/lib/python3.11/dist-packages (from torch>=1.11.0->sentence-transformers) (9.1.0.70)\n",
            "Requirement already satisfied: nvidia-cublas-cu12==12.4.5.8 in /usr/local/lib/python3.11/dist-packages (from torch>=1.11.0->sentence-transformers) (12.4.5.8)\n",
            "Requirement already satisfied: nvidia-cufft-cu12==11.2.1.3 in /usr/local/lib/python3.11/dist-packages (from torch>=1.11.0->sentence-transformers) (11.2.1.3)\n",
            "Requirement already satisfied: nvidia-curand-cu12==10.3.5.147 in /usr/local/lib/python3.11/dist-packages (from torch>=1.11.0->sentence-transformers) (10.3.5.147)\n",
            "Requirement already satisfied: nvidia-cusolver-cu12==11.6.1.9 in /usr/local/lib/python3.11/dist-packages (from torch>=1.11.0->sentence-transformers) (11.6.1.9)\n",
            "Requirement already satisfied: nvidia-cusparse-cu12==12.3.1.170 in /usr/local/lib/python3.11/dist-packages (from torch>=1.11.0->sentence-transformers) (12.3.1.170)\n",
            "Requirement already satisfied: nvidia-nccl-cu12==2.21.5 in /usr/local/lib/python3.11/dist-packages (from torch>=1.11.0->sentence-transformers) (2.21.5)\n",
            "Requirement already satisfied: nvidia-nvtx-cu12==12.4.127 in /usr/local/lib/python3.11/dist-packages (from torch>=1.11.0->sentence-transformers) (12.4.127)\n",
            "Requirement already satisfied: nvidia-nvjitlink-cu12==12.4.127 in /usr/local/lib/python3.11/dist-packages (from torch>=1.11.0->sentence-transformers) (12.4.127)\n",
            "Requirement already satisfied: triton==3.1.0 in /usr/local/lib/python3.11/dist-packages (from torch>=1.11.0->sentence-transformers) (3.1.0)\n",
            "Requirement already satisfied: sympy==1.13.1 in /usr/local/lib/python3.11/dist-packages (from torch>=1.11.0->sentence-transformers) (1.13.1)\n",
            "Requirement already satisfied: mpmath<1.4,>=1.1.0 in /usr/local/lib/python3.11/dist-packages (from sympy==1.13.1->torch>=1.11.0->sentence-transformers) (1.3.0)\n",
            "Requirement already satisfied: regex!=2019.12.17 in /usr/local/lib/python3.11/dist-packages (from transformers<5.0.0,>=4.41.0->sentence-transformers) (2024.11.6)\n",
            "Requirement already satisfied: tokenizers<0.22,>=0.21 in /usr/local/lib/python3.11/dist-packages (from transformers<5.0.0,>=4.41.0->sentence-transformers) (0.21.0)\n",
            "Requirement already satisfied: safetensors>=0.4.1 in /usr/local/lib/python3.11/dist-packages (from transformers<5.0.0,>=4.41.0->sentence-transformers) (0.5.2)\n",
            "Requirement already satisfied: python-dateutil>=2.8.2 in /usr/local/lib/python3.11/dist-packages (from pandas->datasets) (2.8.2)\n",
            "Requirement already satisfied: pytz>=2020.1 in /usr/local/lib/python3.11/dist-packages (from pandas->datasets) (2024.2)\n",
            "Requirement already satisfied: tzdata>=2022.7 in /usr/local/lib/python3.11/dist-packages (from pandas->datasets) (2025.1)\n",
            "Requirement already satisfied: six>=1.5 in /usr/local/lib/python3.11/dist-packages (from python-dateutil>=2.8.2->pandas->datasets) (1.17.0)\n",
            "Requirement already satisfied: MarkupSafe>=2.0 in /usr/local/lib/python3.11/dist-packages (from jinja2->torch>=1.11.0->sentence-transformers) (3.0.2)\n"
          ]
        }
      ]
    },
    {
      "cell_type": "markdown",
      "source": [
        "Importing the required libraries"
      ],
      "metadata": {
        "id": "VFSshUoBKISe"
      }
    },
    {
      "cell_type": "code",
      "source": [
        "import random\n",
        "import json\n",
        "import numpy as np\n",
        "from datasets import load_dataset\n",
        "from sklearn.feature_extraction.text import TfidfVectorizer\n",
        "from sklearn.metrics.pairwise import cosine_similarity\n",
        "import faiss\n",
        "from sentence_transformers import SentenceTransformer"
      ],
      "metadata": {
        "id": "VzPrj3EvDIDL"
      },
      "execution_count": 8,
      "outputs": []
    },
    {
      "cell_type": "markdown",
      "source": [
        "# Importing the SciFact dataset for the experment"
      ],
      "metadata": {
        "id": "WNQhWyH3DXNz"
      }
    },
    {
      "cell_type": "code",
      "source": [
        "# Load SciFact dataset (corpus + claims)\n",
        "corpus = load_dataset(\"allenai/scifact\", \"corpus\", trust_remote_code=True)\n",
        "claims = load_dataset(\"allenai/scifact\", \"claims\", trust_remote_code=True)\n",
        "\n",
        "# Set seed for reproducibility\n",
        "random.seed(42)\n",
        "\n",
        "# Reduce dataset size\n",
        "small_corpus = corpus[\"train\"].shuffle(seed=42).select(range(1000))\n",
        "small_claims = claims[\"train\"].shuffle(seed=42).select(range(1000))\n",
        "\n",
        "# Convert to lists for easy handling\n",
        "small_corpus = small_corpus.to_list()\n",
        "small_claims = small_claims.to_list()\n",
        "\n",
        "# Extract texts and IDs\n",
        "corpus_texts = [\" \".join(doc[\"abstract\"]) for doc in small_corpus]  # Corpus abstracts\n",
        "corpus_ids = [doc[\"doc_id\"] for doc in small_corpus]  # Corpus document IDs\n",
        "claims_texts = [claim[\"claim\"] for claim in small_claims]  # Claims"
      ],
      "metadata": {
        "id": "SZGubEgtDUaK"
      },
      "execution_count": 11,
      "outputs": []
    },
    {
      "cell_type": "markdown",
      "source": [
        "# Model1-trial: TF-IDF (RAG)"
      ],
      "metadata": {
        "id": "Y4xvb3poDcVj"
      }
    },
    {
      "cell_type": "code",
      "source": [
        "### **1️⃣ TF-IDF (RAG) Retrieval**\n",
        "vectorizer = TfidfVectorizer(stop_words=\"english\", ngram_range=(1, 2), max_df=0.85, min_df=5)\n",
        "corpus_tfidf = vectorizer.fit_transform(corpus_texts)\n",
        "claims_tfidf = vectorizer.transform(claims_texts)\n",
        "\n",
        "# Compute cosine similarity and get best matches\n",
        "similarities = cosine_similarity(claims_tfidf, corpus_tfidf)\n",
        "top_k_rag = [list(np.argsort(-similarities[i])[:3]) for i in range(len(small_claims))]  # Top-3 matches\n",
        "\n",
        "### **2️⃣ FAISS (Embedding-based Retrieval)**\n",
        "model = SentenceTransformer(\"sentence-transformers/all-MiniLM-L6-v2\")\n",
        "\n",
        "# Compute embeddings\n",
        "corpus_embeddings = model.encode(corpus_texts, convert_to_numpy=True, normalize_embeddings=True)\n",
        "claims_embeddings = model.encode(claims_texts, convert_to_numpy=True, normalize_embeddings=True)"
      ],
      "metadata": {
        "id": "5dbsTUCWDqKD"
      },
      "execution_count": 12,
      "outputs": []
    },
    {
      "cell_type": "markdown",
      "source": [
        "# Model2-trial: FAISS"
      ],
      "metadata": {
        "id": "nI0_650bDrbq"
      }
    },
    {
      "cell_type": "code",
      "source": [
        "# FAISS Index (Cosine Similarity via Inner Product)\n",
        "d = corpus_embeddings.shape[1]\n",
        "index = faiss.IndexFlatIP(d)  # Inner Product for cosine similarity\n",
        "index.add(corpus_embeddings)\n",
        "\n",
        "# Search FAISS index for top-3 matches\n",
        "D, I = index.search(claims_embeddings, 3)\n",
        "top_k_faiss = I.tolist()  # Convert to list"
      ],
      "metadata": {
        "id": "DDa4-YDrD3e0"
      },
      "execution_count": 13,
      "outputs": []
    },
    {
      "cell_type": "markdown",
      "source": [
        "# Intial Evaluation of the performance"
      ],
      "metadata": {
        "id": "ZPm3uJijD4ta"
      }
    },
    {
      "cell_type": "code",
      "source": [
        "### **3️⃣ Precision@K Evaluation**\n",
        "def evaluate_precision_at_k(rag_results, faiss_results, k=3):\n",
        "    \"\"\"Checks if at least one document retrieved by FAISS is also in RAG's top-k results.\"\"\"\n",
        "    matches = [1 if set(rag_results[i]) & set(faiss_results[i]) else 0 for i in range(len(rag_results))]\n",
        "    return np.mean(matches)\n",
        "\n",
        "precision_rag = evaluate_precision_at_k(top_k_rag, top_k_faiss)\n",
        "precision_faiss = evaluate_precision_at_k(top_k_faiss, top_k_rag)\n",
        "\n",
        "### **4️⃣ Print Results**\n",
        "print(f\"Precision at k=3 for TF-IDF (RAG): {precision_rag:.3f}\")\n",
        "print(f\"Precision at k=3 for FAISS: {precision_faiss:.3f}\")\n",
        "\n",
        "# Debugging Output\n",
        "print(\"\\nSample Matches:\")\n",
        "for i in range(3):  # Print first 3 sample matches\n",
        "    print(f\"\\nClaim {i+1}: {claims_texts[i]}\")\n",
        "    print(f\"  TF-IDF (RAG) Top-3: {[corpus_ids[idx] for idx in top_k_rag[i]]}\")\n",
        "    print(f\"  FAISS Top-3: {[corpus_ids[idx] for idx in top_k_faiss[i]]}\")\n"
      ],
      "metadata": {
        "id": "n1Rf6ZgF_ZQc",
        "outputId": "12780493-3b3a-4de8-ece8-c8d9b9e4e7a0",
        "colab": {
          "base_uri": "https://localhost:8080/"
        }
      },
      "execution_count": 14,
      "outputs": [
        {
          "output_type": "stream",
          "name": "stdout",
          "text": [
            "Precision at k=3 for TF-IDF (RAG): 0.543\n",
            "Precision at k=3 for FAISS: 0.543\n",
            "\n",
            "Sample Matches:\n",
            "\n",
            "Claim 1: The risk of cancer rises with level of alcohol consumption.\n",
            "  TF-IDF (RAG) Top-3: [17236106, 20526907, 38028419]\n",
            "  FAISS Top-3: [20526907, 12794099, 1456068]\n",
            "\n",
            "Claim 2: British male students are bullied more than British female students.\n",
            "  TF-IDF (RAG) Top-3: [2867345, 103007, 6368017]\n",
            "  FAISS Top-3: [3413083, 5850219, 2867345]\n",
            "\n",
            "Claim 3: A deficiency of vitamin B12 decreases blood levels of homocysteine.\n",
            "  TF-IDF (RAG) Top-3: [33409100, 42441846, 16252863]\n",
            "  FAISS Top-3: [33409100, 16252863, 42441846]\n"
          ]
        }
      ]
    },
    {
      "cell_type": "code",
      "source": [
        "from collections import defaultdict\n",
        "\n",
        "def compute_metrics(rag_results, faiss_results, k=3):\n",
        "    \"\"\"Calculates Precision@K, Recall@K, and F1-score@K\"\"\"\n",
        "    precision_rag, recall_rag, f1_rag = [], [], []\n",
        "    precision_faiss, recall_faiss, f1_faiss = [], [], []\n",
        "\n",
        "    for i in range(len(rag_results)):\n",
        "        rag_set = set(rag_results[i])  # TF-IDF retrieved docs\n",
        "        faiss_set = set(faiss_results[i])  # FAISS retrieved docs\n",
        "\n",
        "        # Assume ground-truth relevant docs are the union of both methods (fair comparison)\n",
        "        relevant_docs = rag_set | faiss_set\n",
        "\n",
        "        # Precision = relevant retrieved / K\n",
        "        prec_rag = len(rag_set & relevant_docs) / k\n",
        "        prec_faiss = len(faiss_set & relevant_docs) / k\n",
        "\n",
        "        # Recall = relevant retrieved / total relevant\n",
        "        recall_rag_val = len(rag_set & relevant_docs) / len(relevant_docs) if relevant_docs else 0\n",
        "        recall_faiss_val = len(faiss_set & relevant_docs) / len(relevant_docs) if relevant_docs else 0\n",
        "\n",
        "        # F1 Score\n",
        "        f1_rag_val = (2 * prec_rag * recall_rag_val) / (prec_rag + recall_rag_val) if (prec_rag + recall_rag_val) else 0\n",
        "        f1_faiss_val = (2 * prec_faiss * recall_faiss_val) / (prec_faiss + recall_faiss_val) if (prec_faiss + recall_faiss_val) else 0\n",
        "\n",
        "        # Store results\n",
        "        precision_rag.append(prec_rag)\n",
        "        recall_rag.append(recall_rag_val)\n",
        "        f1_rag.append(f1_rag_val)\n",
        "\n",
        "        precision_faiss.append(prec_faiss)\n",
        "        recall_faiss.append(recall_faiss_val)\n",
        "        f1_faiss.append(f1_faiss_val)\n",
        "\n",
        "    # Compute averages\n",
        "    avg_metrics = {\n",
        "        \"TF-IDF (RAG)\": {\n",
        "            \"Precision@K\": np.mean(precision_rag),\n",
        "            \"Recall@K\": np.mean(recall_rag),\n",
        "            \"F1-score@K\": np.mean(f1_rag),\n",
        "        },\n",
        "        \"FAISS\": {\n",
        "            \"Precision@K\": np.mean(precision_faiss),\n",
        "            \"Recall@K\": np.mean(recall_faiss),\n",
        "            \"F1-score@K\": np.mean(f1_faiss),\n",
        "        }\n",
        "    }\n",
        "\n",
        "    return avg_metrics\n",
        "\n",
        "# Compute and display the results\n",
        "metrics = compute_metrics(top_k_rag, top_k_faiss, k=3)\n",
        "for method, scores in metrics.items():\n",
        "    print(f\"\\n📌 {method} Metrics:\")\n",
        "    for metric, value in scores.items():\n",
        "        print(f\"  {metric}: {value:.3f}\")\n"
      ],
      "metadata": {
        "colab": {
          "base_uri": "https://localhost:8080/"
        },
        "id": "PzJm7YPXNwO-",
        "outputId": "5b8f7c5d-3860-4ed6-b2a1-367eef163452"
      },
      "execution_count": 15,
      "outputs": [
        {
          "output_type": "stream",
          "name": "stdout",
          "text": [
            "\n",
            "📌 TF-IDF (RAG) Metrics:\n",
            "  Precision@K: 1.000\n",
            "  Recall@K: 0.579\n",
            "  F1-score@K: 0.730\n",
            "\n",
            "📌 FAISS Metrics:\n",
            "  Precision@K: 1.000\n",
            "  Recall@K: 0.579\n",
            "  F1-score@K: 0.730\n"
          ]
        }
      ]
    },
    {
      "cell_type": "markdown",
      "source": [
        "# Including the dependencies"
      ],
      "metadata": {
        "id": "BQzu99CdFJKu"
      }
    },
    {
      "cell_type": "code",
      "source": [
        "!python --version"
      ],
      "metadata": {
        "colab": {
          "base_uri": "https://localhost:8080/"
        },
        "id": "0lE9tbVHEBjj",
        "outputId": "ffbd9014-768d-4012-96b0-1295a12cbb79"
      },
      "execution_count": 16,
      "outputs": [
        {
          "output_type": "stream",
          "name": "stdout",
          "text": [
            "Python 3.11.11\n"
          ]
        }
      ]
    },
    {
      "cell_type": "code",
      "source": [
        "!pip freeze > requirements.txt"
      ],
      "metadata": {
        "id": "qb8qDzeTFO9G"
      },
      "execution_count": 17,
      "outputs": []
    },
    {
      "cell_type": "code",
      "source": [
        "!pip list --format=freeze | grep -E 'datasets|scikit-learn|faiss-cpu|sentence-transformers|numpy' > requirements.txt"
      ],
      "metadata": {
        "id": "wK54UcrxFUps"
      },
      "execution_count": 18,
      "outputs": []
    },
    {
      "cell_type": "code",
      "source": [
        "import sys\n",
        "import subprocess\n",
        "\n",
        "libraries = [\n",
        "    \"datasets\",\n",
        "    \"scikit-learn\",\n",
        "    \"faiss-cpu\",\n",
        "    \"sentence-transformers\",\n",
        "    \"numpy\"\n",
        "]\n",
        "\n",
        "for lib in libraries:\n",
        "    subprocess.run([sys.executable, \"-m\", \"pip\", \"install\", lib])\n",
        "\n",
        "print(\"✅ All essential libraries installed.\")\n"
      ],
      "metadata": {
        "colab": {
          "base_uri": "https://localhost:8080/"
        },
        "id": "xTTbUyTGFXvL",
        "outputId": "b76452b2-73aa-4acd-f80b-64adec9885b9"
      },
      "execution_count": 19,
      "outputs": [
        {
          "output_type": "stream",
          "name": "stdout",
          "text": [
            "✅ All essential libraries installed.\n"
          ]
        }
      ]
    },
    {
      "cell_type": "code",
      "source": [],
      "metadata": {
        "id": "AOT-hpEAFcew"
      },
      "execution_count": null,
      "outputs": []
    }
  ],
  "metadata": {
    "colab": {
      "provenance": [],
      "include_colab_link": true
    },
    "kernelspec": {
      "display_name": "Python 3",
      "name": "python3"
    }
  },
  "nbformat": 4,
  "nbformat_minor": 0
}